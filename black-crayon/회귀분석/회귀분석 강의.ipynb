{
 "cells": [
  {
   "cell_type": "markdown",
   "metadata": {},
   "source": [
    "# 회귀분석 강의자료\n",
    "### 2017 7월 19일"
   ]
  },
  {
   "cell_type": "code",
   "execution_count": 1,
   "metadata": {},
   "outputs": [
    {
     "data": {
      "text/plain": [
       "\n",
       "Call:\n",
       "lm(formula = y ~ x)\n",
       "\n",
       "Residuals:\n",
       "    Min      1Q  Median      3Q     Max \n",
       "-1.8768 -0.6138 -0.1395  0.5394  2.3462 \n",
       "\n",
       "Coefficients:\n",
       "            Estimate Std. Error t value Pr(>|t|)    \n",
       "(Intercept) -0.03769    0.09699  -0.389    0.698    \n",
       "x            0.99894    0.10773   9.273 4.58e-15 ***\n",
       "---\n",
       "Signif. codes:  0 '***' 0.001 '**' 0.01 '*' 0.05 '.' 0.1 ' ' 1\n",
       "\n",
       "Residual standard error: 0.9628 on 98 degrees of freedom\n",
       "Multiple R-squared:  0.4674,\tAdjusted R-squared:  0.4619 \n",
       "F-statistic: 85.99 on 1 and 98 DF,  p-value: 4.583e-15\n"
      ]
     },
     "metadata": {},
     "output_type": "display_data"
    },
    {
     "data": {
      "image/png": "[encoded data removed]",
      "text/plain": [
       "plot without title"
      ]
     },
     "metadata": {},
     "output_type": "display_data"
    }
   ],
   "source": [
    "set.seed(1)\n",
    "\n",
    "x<-rnorm(100)\n",
    "y<-x+rnorm(100)\n",
    "plot(x,y)\n",
    "\n",
    "abline(lm(y~x),col=2,lwd=3)\n",
    "\n",
    "summary(lm(y~x))"
   ]
  },
  {
   "cell_type": "code",
   "execution_count": 2,
   "metadata": {
    "collapsed": true
   },
   "outputs": [],
   "source": [
    "x1<-rnorm(100)\n",
    "x2<-rnorm(100)\n",
    "x3<-rnorm(100)\n",
    "x4<-rnorm(100)\n",
    "\n",
    "y<-x1+3*x2+x3+x4+rnorm(100)"
   ]
  },
  {
   "cell_type": "code",
   "execution_count": 3,
   "metadata": {},
   "outputs": [
    {
     "data": {
      "text/plain": [
       "\n",
       "Call:\n",
       "lm(formula = y ~ x1 + x2 + x3 + x4)\n",
       "\n",
       "Residuals:\n",
       "     Min       1Q   Median       3Q      Max \n",
       "-2.64377 -0.80200 -0.04952  0.73341  2.91557 \n",
       "\n",
       "Coefficients:\n",
       "            Estimate Std. Error t value Pr(>|t|)    \n",
       "(Intercept) -0.18924    0.10950  -1.728   0.0872 .  \n",
       "x1           0.97628    0.10680   9.141 1.13e-14 ***\n",
       "x2           2.86139    0.11180  25.595  < 2e-16 ***\n",
       "x3           1.06275    0.09422  11.280  < 2e-16 ***\n",
       "x4           1.00062    0.11458   8.733 8.40e-14 ***\n",
       "---\n",
       "Signif. codes:  0 '***' 0.001 '**' 0.01 '*' 0.05 '.' 0.1 ' ' 1\n",
       "\n",
       "Residual standard error: 1.091 on 95 degrees of freedom\n",
       "Multiple R-squared:  0.9103,\tAdjusted R-squared:  0.9065 \n",
       "F-statistic: 240.9 on 4 and 95 DF,  p-value: < 2.2e-16\n"
      ]
     },
     "metadata": {},
     "output_type": "display_data"
    },
    {
     "data": {
      "text/html": [
       "<table>\n",
       "<thead><tr><th></th><th scope=col>Df</th><th scope=col>Sum Sq</th><th scope=col>Mean Sq</th><th scope=col>F value</th><th scope=col>Pr(&gt;F)</th></tr></thead>\n",
       "<tbody>\n",
       "\t<tr><th scope=row>x1</th><td> 1          </td><td>172.6337    </td><td>172.633704  </td><td>144.9135    </td><td>8.087143e-21</td></tr>\n",
       "\t<tr><th scope=row>x2</th><td> 1          </td><td>751.9691    </td><td>751.969058  </td><td>631.2235    </td><td>9.610343e-44</td></tr>\n",
       "\t<tr><th scope=row>x3</th><td> 1          </td><td>132.6361    </td><td>132.636121  </td><td>111.3384    </td><td>1.100218e-17</td></tr>\n",
       "\t<tr><th scope=row>x4</th><td> 1          </td><td> 90.8599    </td><td> 90.859903  </td><td> 76.2703    </td><td>8.397690e-14</td></tr>\n",
       "\t<tr><th scope=row>Residuals</th><td>95          </td><td>113.1724    </td><td>  1.191288  </td><td>      NA    </td><td>          NA</td></tr>\n",
       "</tbody>\n",
       "</table>\n"
      ],
      "text/latex": [
       "\\begin{tabular}{r|lllll}\n",
       "  & Df & Sum Sq & Mean Sq & F value & Pr(>F)\\\\\n",
       "\\hline\n",
       "\tx1 &  1           & 172.6337     & 172.633704   & 144.9135     & 8.087143e-21\\\\\n",
       "\tx2 &  1           & 751.9691     & 751.969058   & 631.2235     & 9.610343e-44\\\\\n",
       "\tx3 &  1           & 132.6361     & 132.636121   & 111.3384     & 1.100218e-17\\\\\n",
       "\tx4 &  1           &  90.8599     &  90.859903   &  76.2703     & 8.397690e-14\\\\\n",
       "\tResiduals & 95           & 113.1724     &   1.191288   &       NA     &           NA\\\\\n",
       "\\end{tabular}\n"
      ],
      "text/markdown": [
       "\n",
       "| <!--/--> | Df | Sum Sq | Mean Sq | F value | Pr(>F) | \n",
       "|---|---|---|---|---|\n",
       "| x1 |  1           | 172.6337     | 172.633704   | 144.9135     | 8.087143e-21 | \n",
       "| x2 |  1           | 751.9691     | 751.969058   | 631.2235     | 9.610343e-44 | \n",
       "| x3 |  1           | 132.6361     | 132.636121   | 111.3384     | 1.100218e-17 | \n",
       "| x4 |  1           |  90.8599     |  90.859903   |  76.2703     | 8.397690e-14 | \n",
       "| Residuals | 95           | 113.1724     |   1.191288   |       NA     |           NA | \n",
       "\n",
       "\n"
      ],
      "text/plain": [
       "          Df Sum Sq   Mean Sq    F value  Pr(>F)      \n",
       "x1         1 172.6337 172.633704 144.9135 8.087143e-21\n",
       "x2         1 751.9691 751.969058 631.2235 9.610343e-44\n",
       "x3         1 132.6361 132.636121 111.3384 1.100218e-17\n",
       "x4         1  90.8599  90.859903  76.2703 8.397690e-14\n",
       "Residuals 95 113.1724   1.191288       NA           NA"
      ]
     },
     "metadata": {},
     "output_type": "display_data"
    },
    {
     "data": {
      "text/html": [
       "<table>\n",
       "<thead><tr><th></th><th scope=col>Df</th><th scope=col>Sum Sq</th><th scope=col>Mean Sq</th><th scope=col>F value</th><th scope=col>Pr(&gt;F)</th></tr></thead>\n",
       "<tbody>\n",
       "\t<tr><th scope=row>x2</th><td> 1          </td><td>824.1960    </td><td>824.195983  </td><td>691.85280   </td><td>2.119302e-45</td></tr>\n",
       "\t<tr><th scope=row>x1</th><td> 1          </td><td>100.4068    </td><td>100.406779  </td><td> 84.28421   </td><td>9.322798e-15</td></tr>\n",
       "\t<tr><th scope=row>x3</th><td> 1          </td><td>132.6361    </td><td>132.636121  </td><td>111.33841   </td><td>1.100218e-17</td></tr>\n",
       "\t<tr><th scope=row>x4</th><td> 1          </td><td> 90.8599    </td><td> 90.859903  </td><td> 76.27030   </td><td>8.397690e-14</td></tr>\n",
       "\t<tr><th scope=row>Residuals</th><td>95          </td><td>113.1724    </td><td>  1.191288  </td><td>       NA   </td><td>          NA</td></tr>\n",
       "</tbody>\n",
       "</table>\n"
      ],
      "text/latex": [
       "\\begin{tabular}{r|lllll}\n",
       "  & Df & Sum Sq & Mean Sq & F value & Pr(>F)\\\\\n",
       "\\hline\n",
       "\tx2 &  1           & 824.1960     & 824.195983   & 691.85280    & 2.119302e-45\\\\\n",
       "\tx1 &  1           & 100.4068     & 100.406779   &  84.28421    & 9.322798e-15\\\\\n",
       "\tx3 &  1           & 132.6361     & 132.636121   & 111.33841    & 1.100218e-17\\\\\n",
       "\tx4 &  1           &  90.8599     &  90.859903   &  76.27030    & 8.397690e-14\\\\\n",
       "\tResiduals & 95           & 113.1724     &   1.191288   &        NA    &           NA\\\\\n",
       "\\end{tabular}\n"
      ],
      "text/markdown": [
       "\n",
       "| <!--/--> | Df | Sum Sq | Mean Sq | F value | Pr(>F) | \n",
       "|---|---|---|---|---|\n",
       "| x2 |  1           | 824.1960     | 824.195983   | 691.85280    | 2.119302e-45 | \n",
       "| x1 |  1           | 100.4068     | 100.406779   |  84.28421    | 9.322798e-15 | \n",
       "| x3 |  1           | 132.6361     | 132.636121   | 111.33841    | 1.100218e-17 | \n",
       "| x4 |  1           |  90.8599     |  90.859903   |  76.27030    | 8.397690e-14 | \n",
       "| Residuals | 95           | 113.1724     |   1.191288   |        NA    |           NA | \n",
       "\n",
       "\n"
      ],
      "text/plain": [
       "          Df Sum Sq   Mean Sq    F value   Pr(>F)      \n",
       "x2         1 824.1960 824.195983 691.85280 2.119302e-45\n",
       "x1         1 100.4068 100.406779  84.28421 9.322798e-15\n",
       "x3         1 132.6361 132.636121 111.33841 1.100218e-17\n",
       "x4         1  90.8599  90.859903  76.27030 8.397690e-14\n",
       "Residuals 95 113.1724   1.191288        NA           NA"
      ]
     },
     "metadata": {},
     "output_type": "display_data"
    }
   ],
   "source": [
    "summary(lm(y~x1+x2+x3+x4)) #partial \n",
    "anova(lm(y~x1+x2+x3+x4)) #sequential\n",
    "anova(lm(y~x2+x1+x3+x4)) #sequential"
   ]
  },
  {
   "cell_type": "code",
   "execution_count": 4,
   "metadata": {},
   "outputs": [
    {
     "data": {
      "text/html": [
       "<table>\n",
       "<thead><tr><th scope=col>X</th><th scope=col>x1</th><th scope=col>y1</th><th scope=col>x2</th><th scope=col>y2</th><th scope=col>x3</th><th scope=col>y3</th><th scope=col>x4</th><th scope=col>y4</th></tr></thead>\n",
       "<tbody>\n",
       "\t<tr><td> 1   </td><td>10   </td><td> 8.04</td><td>10   </td><td>9.14 </td><td>10   </td><td> 7.46</td><td> 8   </td><td> 6.58</td></tr>\n",
       "\t<tr><td> 2   </td><td> 8   </td><td> 6.95</td><td> 8   </td><td>8.14 </td><td> 8   </td><td> 6.77</td><td> 8   </td><td> 5.76</td></tr>\n",
       "\t<tr><td> 3   </td><td>13   </td><td> 7.58</td><td>13   </td><td>8.74 </td><td>13   </td><td>12.74</td><td> 8   </td><td> 7.71</td></tr>\n",
       "\t<tr><td> 4   </td><td> 9   </td><td> 8.81</td><td> 9   </td><td>8.77 </td><td> 9   </td><td> 7.11</td><td> 8   </td><td> 8.84</td></tr>\n",
       "\t<tr><td> 5   </td><td>11   </td><td> 8.33</td><td>11   </td><td>9.26 </td><td>11   </td><td> 7.81</td><td> 8   </td><td> 8.47</td></tr>\n",
       "\t<tr><td> 6   </td><td>14   </td><td> 9.96</td><td>14   </td><td>8.10 </td><td>14   </td><td> 8.84</td><td> 8   </td><td> 7.04</td></tr>\n",
       "\t<tr><td> 7   </td><td> 6   </td><td> 7.24</td><td> 6   </td><td>6.13 </td><td> 6   </td><td> 6.08</td><td> 8   </td><td> 5.25</td></tr>\n",
       "\t<tr><td> 8   </td><td> 4   </td><td> 4.26</td><td> 4   </td><td>3.10 </td><td> 4   </td><td> 5.39</td><td>19   </td><td>12.50</td></tr>\n",
       "\t<tr><td> 9   </td><td>12   </td><td>10.84</td><td>12   </td><td>9.13 </td><td>12   </td><td> 8.15</td><td> 8   </td><td> 5.56</td></tr>\n",
       "\t<tr><td>10   </td><td> 7   </td><td> 4.82</td><td> 7   </td><td>7.26 </td><td> 7   </td><td> 6.42</td><td> 8   </td><td> 7.91</td></tr>\n",
       "\t<tr><td>11   </td><td> 5   </td><td> 5.68</td><td> 5   </td><td>4.74 </td><td> 5   </td><td> 5.73</td><td> 8   </td><td> 6.89</td></tr>\n",
       "</tbody>\n",
       "</table>\n"
      ],
      "text/latex": [
       "\\begin{tabular}{r|lllllllll}\n",
       " X & x1 & y1 & x2 & y2 & x3 & y3 & x4 & y4\\\\\n",
       "\\hline\n",
       "\t  1    & 10    &  8.04 & 10    & 9.14  & 10    &  7.46 &  8    &  6.58\\\\\n",
       "\t  2    &  8    &  6.95 &  8    & 8.14  &  8    &  6.77 &  8    &  5.76\\\\\n",
       "\t  3    & 13    &  7.58 & 13    & 8.74  & 13    & 12.74 &  8    &  7.71\\\\\n",
       "\t  4    &  9    &  8.81 &  9    & 8.77  &  9    &  7.11 &  8    &  8.84\\\\\n",
       "\t  5    & 11    &  8.33 & 11    & 9.26  & 11    &  7.81 &  8    &  8.47\\\\\n",
       "\t  6    & 14    &  9.96 & 14    & 8.10  & 14    &  8.84 &  8    &  7.04\\\\\n",
       "\t  7    &  6    &  7.24 &  6    & 6.13  &  6    &  6.08 &  8    &  5.25\\\\\n",
       "\t  8    &  4    &  4.26 &  4    & 3.10  &  4    &  5.39 & 19    & 12.50\\\\\n",
       "\t  9    & 12    & 10.84 & 12    & 9.13  & 12    &  8.15 &  8    &  5.56\\\\\n",
       "\t 10    &  7    &  4.82 &  7    & 7.26  &  7    &  6.42 &  8    &  7.91\\\\\n",
       "\t 11    &  5    &  5.68 &  5    & 4.74  &  5    &  5.73 &  8    &  6.89\\\\\n",
       "\\end{tabular}\n"
      ],
      "text/markdown": [
       "\n",
       "X | x1 | y1 | x2 | y2 | x3 | y3 | x4 | y4 | \n",
       "|---|---|---|---|---|---|---|---|---|---|---|\n",
       "|  1    | 10    |  8.04 | 10    | 9.14  | 10    |  7.46 |  8    |  6.58 | \n",
       "|  2    |  8    |  6.95 |  8    | 8.14  |  8    |  6.77 |  8    |  5.76 | \n",
       "|  3    | 13    |  7.58 | 13    | 8.74  | 13    | 12.74 |  8    |  7.71 | \n",
       "|  4    |  9    |  8.81 |  9    | 8.77  |  9    |  7.11 |  8    |  8.84 | \n",
       "|  5    | 11    |  8.33 | 11    | 9.26  | 11    |  7.81 |  8    |  8.47 | \n",
       "|  6    | 14    |  9.96 | 14    | 8.10  | 14    |  8.84 |  8    |  7.04 | \n",
       "|  7    |  6    |  7.24 |  6    | 6.13  |  6    |  6.08 |  8    |  5.25 | \n",
       "|  8    |  4    |  4.26 |  4    | 3.10  |  4    |  5.39 | 19    | 12.50 | \n",
       "|  9    | 12    | 10.84 | 12    | 9.13  | 12    |  8.15 |  8    |  5.56 | \n",
       "| 10    |  7    |  4.82 |  7    | 7.26  |  7    |  6.42 |  8    |  7.91 | \n",
       "| 11    |  5    |  5.68 |  5    | 4.74  |  5    |  5.73 |  8    |  6.89 | \n",
       "\n",
       "\n"
      ],
      "text/plain": [
       "   X  x1 y1    x2 y2   x3 y3    x4 y4   \n",
       "1   1 10  8.04 10 9.14 10  7.46  8  6.58\n",
       "2   2  8  6.95  8 8.14  8  6.77  8  5.76\n",
       "3   3 13  7.58 13 8.74 13 12.74  8  7.71\n",
       "4   4  9  8.81  9 8.77  9  7.11  8  8.84\n",
       "5   5 11  8.33 11 9.26 11  7.81  8  8.47\n",
       "6   6 14  9.96 14 8.10 14  8.84  8  7.04\n",
       "7   7  6  7.24  6 6.13  6  6.08  8  5.25\n",
       "8   8  4  4.26  4 3.10  4  5.39 19 12.50\n",
       "9   9 12 10.84 12 9.13 12  8.15  8  5.56\n",
       "10 10  7  4.82  7 7.26  7  6.42  8  7.91\n",
       "11 11  5  5.68  5 4.74  5  5.73  8  6.89"
      ]
     },
     "metadata": {},
     "output_type": "display_data"
    }
   ],
   "source": [
    "fun<-read.csv(\"fundata.csv\",stringsAsFactors = F)\n",
    "fun"
   ]
  },
  {
   "cell_type": "code",
   "execution_count": 5,
   "metadata": {},
   "outputs": [
    {
     "data": {
      "text/plain": [
       "\n",
       "Call:\n",
       "lm(formula = y1 ~ x1, data = fun)\n",
       "\n",
       "Residuals:\n",
       "     Min       1Q   Median       3Q      Max \n",
       "-1.92127 -0.45577 -0.04136  0.70941  1.83882 \n",
       "\n",
       "Coefficients:\n",
       "            Estimate Std. Error t value Pr(>|t|)   \n",
       "(Intercept)   3.0001     1.1247   2.667  0.02573 * \n",
       "x1            0.5001     0.1179   4.241  0.00217 **\n",
       "---\n",
       "Signif. codes:  0 '***' 0.001 '**' 0.01 '*' 0.05 '.' 0.1 ' ' 1\n",
       "\n",
       "Residual standard error: 1.237 on 9 degrees of freedom\n",
       "Multiple R-squared:  0.6665,\tAdjusted R-squared:  0.6295 \n",
       "F-statistic: 17.99 on 1 and 9 DF,  p-value: 0.00217\n"
      ]
     },
     "metadata": {},
     "output_type": "display_data"
    }
   ],
   "source": [
    "fun<-fun[,-1]\n",
    "\n",
    "#선형모형 만들기 fit1\n",
    "fit1<-lm(y1~x1,data=fun)\n",
    "#정말 좋은 값인가? \n",
    "summary(fit1) #잔차가 -2~2 사이에 있으면 양호 , 변수들의 p값을 보고 "
   ]
  },
  {
   "cell_type": "code",
   "execution_count": 6,
   "metadata": {},
   "outputs": [
    {
     "data": {
      "text/plain": [
       "\n",
       "Call:\n",
       "lm(formula = y1 ~ x1, data = fun)\n",
       "\n",
       "Coefficients:\n",
       "(Intercept)           x1  \n",
       "     3.0001       0.5001  \n"
      ]
     },
     "metadata": {},
     "output_type": "display_data"
    },
    {
     "data": {
      "text/plain": [
       "\n",
       "Call:\n",
       "lm(formula = y2 ~ x2, data = fun)\n",
       "\n",
       "Coefficients:\n",
       "(Intercept)           x2  \n",
       "      3.001        0.500  \n"
      ]
     },
     "metadata": {},
     "output_type": "display_data"
    },
    {
     "data": {
      "text/plain": [
       "\n",
       "Call:\n",
       "lm(formula = y3 ~ x3, data = fun)\n",
       "\n",
       "Coefficients:\n",
       "(Intercept)           x3  \n",
       "     3.0025       0.4997  \n"
      ]
     },
     "metadata": {},
     "output_type": "display_data"
    },
    {
     "data": {
      "text/plain": [
       "\n",
       "Call:\n",
       "lm(formula = y4 ~ x4, data = fun)\n",
       "\n",
       "Coefficients:\n",
       "(Intercept)           x4  \n",
       "     3.0017       0.4999  \n"
      ]
     },
     "metadata": {},
     "output_type": "display_data"
    }
   ],
   "source": [
    "fit2<-lm(y2~x2,data=fun)\n",
    "fit3<-lm(y3~x3,data=fun)\n",
    "fit4<-lm(y4~x4,data=fun)\n",
    "fit1;fit2;fit3;fit4;"
   ]
  },
  {
   "cell_type": "code",
   "execution_count": 8,
   "metadata": {},
   "outputs": [
    {
     "data": {
      "image/png": "[encoded data removed]",
      "text/plain": [
       "Plot with title \"\""
      ]
     },
     "metadata": {},
     "output_type": "display_data"
    }
   ],
   "source": [
    "par(mfrow=c(2,2))\n",
    "plot(fit3)\n",
    "#1번 등분산잘됨\n",
    "#2번은 잔차가 경향이 있다.\n",
    "#3번은 이상치 \n",
    "#4번은 이상치 가 있다."
   ]
  },
  {
   "cell_type": "code",
   "execution_count": 9,
   "metadata": {},
   "outputs": [
    {
     "data": {
      "image/png": "[encoded data removed]",
      "text/plain": [
       "plot without title"
      ]
     },
     "metadata": {},
     "output_type": "display_data"
    }
   ],
   "source": [
    "par(mfrow=c(2,2))\n",
    "plot(fun$x1,fun$y1)\n",
    "abline(fit1,col=\"red\")\n",
    "plot(fun$x2,fun$y2)\n",
    "abline(fit2,col=\"red\")\n",
    "plot(fun$x3,fun$y3)\n",
    "abline(fit3,col=\"red\")\n",
    "plot(fun$x4,fun$y4)\n",
    "abline(fit4,col=\"red\")"
   ]
  },
  {
   "cell_type": "markdown",
   "metadata": {},
   "source": [
    "####################################################\n",
    "#미국 금융기관에서 조사한 상사(supervisor) 직무수행평가 데이터\n",
    "#보통 한 팀에 35명의 사원들과 1명의 상사가 있었는데 설문조사를 하여 만든 데이터라고 함.\n",
    "#Y : 상사의 직무수행에 대한 전반적인 평가\n",
    "#X1: 피고용인의 불만처리\n",
    "#X2: 특권을 허용하지 않음\n",
    "#X3: 새로운 것을 배울 기회\n",
    "#X4: 업무성과에 따른 승진\n",
    "#X5: 과실에 대한 지나친 비판\n",
    "#X6: 더 나은 일로의 진급 (상사가 아닌 나의 진급을 점수화)\n",
    "#######################################################\n"
   ]
  },
  {
   "cell_type": "code",
   "execution_count": 10,
   "metadata": {},
   "outputs": [
    {
     "name": "stdout",
     "output_type": "stream",
     "text": [
      "'data.frame':\t30 obs. of  7 variables:\n",
      " $ Y : int  43 63 71 61 81 43 58 71 72 67 ...\n",
      " $ X1: int  51 64 70 63 78 55 67 75 82 61 ...\n",
      " $ X2: int  30 51 68 45 56 49 42 50 72 45 ...\n",
      " $ X3: int  39 54 69 47 66 44 56 55 67 47 ...\n",
      " $ X4: int  61 63 76 54 71 54 66 70 71 62 ...\n",
      " $ X5: int  92 73 86 84 83 49 68 66 83 80 ...\n",
      " $ X6: int  45 47 48 35 47 34 35 41 31 41 ...\n"
     ]
    },
    {
     "data": {
      "text/html": [
       "<table>\n",
       "<thead><tr><th scope=col>Y</th><th scope=col>X1</th><th scope=col>X2</th><th scope=col>X3</th><th scope=col>X4</th><th scope=col>X5</th><th scope=col>X6</th></tr></thead>\n",
       "<tbody>\n",
       "\t<tr><td>43</td><td>51</td><td>30</td><td>39</td><td>61</td><td>92</td><td>45</td></tr>\n",
       "\t<tr><td>63</td><td>64</td><td>51</td><td>54</td><td>63</td><td>73</td><td>47</td></tr>\n",
       "\t<tr><td>71</td><td>70</td><td>68</td><td>69</td><td>76</td><td>86</td><td>48</td></tr>\n",
       "\t<tr><td>61</td><td>63</td><td>45</td><td>47</td><td>54</td><td>84</td><td>35</td></tr>\n",
       "\t<tr><td>81</td><td>78</td><td>56</td><td>66</td><td>71</td><td>83</td><td>47</td></tr>\n",
       "</tbody>\n",
       "</table>\n"
      ],
      "text/latex": [
       "\\begin{tabular}{r|lllllll}\n",
       " Y & X1 & X2 & X3 & X4 & X5 & X6\\\\\n",
       "\\hline\n",
       "\t 43 & 51 & 30 & 39 & 61 & 92 & 45\\\\\n",
       "\t 63 & 64 & 51 & 54 & 63 & 73 & 47\\\\\n",
       "\t 71 & 70 & 68 & 69 & 76 & 86 & 48\\\\\n",
       "\t 61 & 63 & 45 & 47 & 54 & 84 & 35\\\\\n",
       "\t 81 & 78 & 56 & 66 & 71 & 83 & 47\\\\\n",
       "\\end{tabular}\n"
      ],
      "text/markdown": [
       "\n",
       "Y | X1 | X2 | X3 | X4 | X5 | X6 | \n",
       "|---|---|---|---|---|\n",
       "| 43 | 51 | 30 | 39 | 61 | 92 | 45 | \n",
       "| 63 | 64 | 51 | 54 | 63 | 73 | 47 | \n",
       "| 71 | 70 | 68 | 69 | 76 | 86 | 48 | \n",
       "| 61 | 63 | 45 | 47 | 54 | 84 | 35 | \n",
       "| 81 | 78 | 56 | 66 | 71 | 83 | 47 | \n",
       "\n",
       "\n"
      ],
      "text/plain": [
       "  Y  X1 X2 X3 X4 X5 X6\n",
       "1 43 51 30 39 61 92 45\n",
       "2 63 64 51 54 63 73 47\n",
       "3 71 70 68 69 76 86 48\n",
       "4 61 63 45 47 54 84 35\n",
       "5 81 78 56 66 71 83 47"
      ]
     },
     "metadata": {},
     "output_type": "display_data"
    }
   ],
   "source": [
    "data<-read.table(\"data.txt\",header=T)\n",
    "\n",
    "str(data)\n",
    "head(data,n=5)"
   ]
  },
  {
   "cell_type": "code",
   "execution_count": 11,
   "metadata": {},
   "outputs": [
    {
     "data": {
      "text/plain": [
       "\n",
       "Call:\n",
       "lm(formula = Y ~ X1 + X2 + X3 + X4 + X5 + X6, data = data)\n",
       "\n",
       "Residuals:\n",
       "     Min       1Q   Median       3Q      Max \n",
       "-10.9418  -4.3555   0.3158   5.5425  11.5990 \n",
       "\n",
       "Coefficients:\n",
       "            Estimate Std. Error t value Pr(>|t|)    \n",
       "(Intercept) 10.78708   11.58926   0.931 0.361634    \n",
       "X1           0.61319    0.16098   3.809 0.000903 ***\n",
       "X2          -0.07305    0.13572  -0.538 0.595594    \n",
       "X3           0.32033    0.16852   1.901 0.069925 .  \n",
       "X4           0.08173    0.22148   0.369 0.715480    \n",
       "X5           0.03838    0.14700   0.261 0.796334    \n",
       "X6          -0.21706    0.17821  -1.218 0.235577    \n",
       "---\n",
       "Signif. codes:  0 '***' 0.001 '**' 0.01 '*' 0.05 '.' 0.1 ' ' 1\n",
       "\n",
       "Residual standard error: 7.068 on 23 degrees of freedom\n",
       "Multiple R-squared:  0.7326,\tAdjusted R-squared:  0.6628 \n",
       "F-statistic:  10.5 on 6 and 23 DF,  p-value: 1.24e-05\n"
      ]
     },
     "metadata": {},
     "output_type": "display_data"
    },
    {
     "data": {
      "text/plain": [
       "\n",
       "Call:\n",
       "lm(formula = Y ~ X1 + X2 + X3 + X4 + X6, data = data)\n",
       "\n",
       "Residuals:\n",
       "     Min       1Q   Median       3Q      Max \n",
       "-11.8088  -4.8353   0.4199   5.5775  11.5276 \n",
       "\n",
       "Coefficients:\n",
       "            Estimate Std. Error t value Pr(>|t|)    \n",
       "(Intercept) 12.79791    8.49061   1.507 0.144785    \n",
       "X1           0.61315    0.15783   3.885 0.000704 ***\n",
       "X2          -0.07224    0.13303  -0.543 0.592122    \n",
       "X3           0.31172    0.16202   1.924 0.066300 .  \n",
       "X4           0.09795    0.20842   0.470 0.642621    \n",
       "X6          -0.21111    0.17328  -1.218 0.234956    \n",
       "---\n",
       "Signif. codes:  0 '***' 0.001 '**' 0.01 '*' 0.05 '.' 0.1 ' ' 1\n",
       "\n",
       "Residual standard error: 6.929 on 24 degrees of freedom\n",
       "Multiple R-squared:  0.7318,\tAdjusted R-squared:  0.6759 \n",
       "F-statistic:  13.1 on 5 and 24 DF,  p-value: 3.278e-06\n"
      ]
     },
     "metadata": {},
     "output_type": "display_data"
    },
    {
     "data": {
      "text/plain": [
       "\n",
       "Call:\n",
       "lm(formula = Y ~ X1 + X2 + X3 + X6, data = data)\n",
       "\n",
       "Residuals:\n",
       "     Min       1Q   Median       3Q      Max \n",
       "-11.8976  -5.5171   0.7654   5.8086  11.5022 \n",
       "\n",
       "Coefficients:\n",
       "            Estimate Std. Error t value Pr(>|t|)    \n",
       "(Intercept) 14.30347    7.73957   1.848   0.0765 .  \n",
       "X1           0.65338    0.13051   5.006 3.67e-05 ***\n",
       "X2          -0.07682    0.13059  -0.588   0.5616    \n",
       "X3           0.32395    0.15741   2.058   0.0502 .  \n",
       "X6          -0.17151    0.14904  -1.151   0.2607    \n",
       "---\n",
       "Signif. codes:  0 '***' 0.001 '**' 0.01 '*' 0.05 '.' 0.1 ' ' 1\n",
       "\n",
       "Residual standard error: 6.821 on 25 degrees of freedom\n",
       "Multiple R-squared:  0.7293,\tAdjusted R-squared:  0.686 \n",
       "F-statistic: 16.84 on 4 and 25 DF,  p-value: 8.134e-07\n"
      ]
     },
     "metadata": {},
     "output_type": "display_data"
    },
    {
     "data": {
      "text/plain": [
       "\n",
       "Call:\n",
       "lm(formula = Y ~ X1 + X3 + X6, data = data)\n",
       "\n",
       "Residuals:\n",
       "    Min      1Q  Median      3Q     Max \n",
       "-12.217  -5.377   0.967   6.078  11.540 \n",
       "\n",
       "Coefficients:\n",
       "            Estimate Std. Error t value Pr(>|t|)    \n",
       "(Intercept)  13.5777     7.5439   1.800   0.0835 .  \n",
       "X1            0.6227     0.1181   5.271 1.65e-05 ***\n",
       "X3            0.3124     0.1542   2.026   0.0532 .  \n",
       "X6           -0.1870     0.1449  -1.291   0.2082    \n",
       "---\n",
       "Signif. codes:  0 '***' 0.001 '**' 0.01 '*' 0.05 '.' 0.1 ' ' 1\n",
       "\n",
       "Residual standard error: 6.734 on 26 degrees of freedom\n",
       "Multiple R-squared:  0.7256,\tAdjusted R-squared:  0.6939 \n",
       "F-statistic: 22.92 on 3 and 26 DF,  p-value: 1.807e-07\n"
      ]
     },
     "metadata": {},
     "output_type": "display_data"
    },
    {
     "data": {
      "text/plain": [
       "\n",
       "Call:\n",
       "lm(formula = Y ~ X1 + X3, data = data)\n",
       "\n",
       "Residuals:\n",
       "     Min       1Q   Median       3Q      Max \n",
       "-11.5568  -5.7331   0.6701   6.5341  10.3610 \n",
       "\n",
       "Coefficients:\n",
       "            Estimate Std. Error t value Pr(>|t|)    \n",
       "(Intercept)   9.8709     7.0612   1.398    0.174    \n",
       "X1            0.6435     0.1185   5.432 9.57e-06 ***\n",
       "X3            0.2112     0.1344   1.571    0.128    \n",
       "---\n",
       "Signif. codes:  0 '***' 0.001 '**' 0.01 '*' 0.05 '.' 0.1 ' ' 1\n",
       "\n",
       "Residual standard error: 6.817 on 27 degrees of freedom\n",
       "Multiple R-squared:  0.708,\tAdjusted R-squared:  0.6864 \n",
       "F-statistic: 32.74 on 2 and 27 DF,  p-value: 6.058e-08\n"
      ]
     },
     "metadata": {},
     "output_type": "display_data"
    },
    {
     "data": {
      "text/plain": [
       "\n",
       "Call:\n",
       "lm(formula = Y ~ X1, data = data)\n",
       "\n",
       "Residuals:\n",
       "     Min       1Q   Median       3Q      Max \n",
       "-12.8799  -5.9905   0.1783   6.2978   9.6294 \n",
       "\n",
       "Coefficients:\n",
       "            Estimate Std. Error t value Pr(>|t|)    \n",
       "(Intercept) 14.37632    6.61999   2.172   0.0385 *  \n",
       "X1           0.75461    0.09753   7.737 1.99e-08 ***\n",
       "---\n",
       "Signif. codes:  0 '***' 0.001 '**' 0.01 '*' 0.05 '.' 0.1 ' ' 1\n",
       "\n",
       "Residual standard error: 6.993 on 28 degrees of freedom\n",
       "Multiple R-squared:  0.6813,\tAdjusted R-squared:  0.6699 \n",
       "F-statistic: 59.86 on 1 and 28 DF,  p-value: 1.988e-08\n"
      ]
     },
     "metadata": {},
     "output_type": "display_data"
    },
    {
     "data": {
      "text/plain": [
       "\n",
       "Call:\n",
       "lm(formula = Y ~ 1, data = data)\n",
       "\n",
       "Residuals:\n",
       "     Min       1Q   Median       3Q      Max \n",
       "-24.6333  -5.8833   0.8667   7.1167  20.3667 \n",
       "\n",
       "Coefficients:\n",
       "            Estimate Std. Error t value Pr(>|t|)    \n",
       "(Intercept)   64.633      2.222   29.08   <2e-16 ***\n",
       "---\n",
       "Signif. codes:  0 '***' 0.001 '**' 0.01 '*' 0.05 '.' 0.1 ' ' 1\n",
       "\n",
       "Residual standard error: 12.17 on 29 degrees of freedom\n"
      ]
     },
     "metadata": {},
     "output_type": "display_data"
    },
    {
     "data": {
      "text/html": [
       "<table>\n",
       "<thead><tr><th scope=col>Res.Df</th><th scope=col>RSS</th><th scope=col>Df</th><th scope=col>Sum of Sq</th><th scope=col>F</th><th scope=col>Pr(&gt;F)</th></tr></thead>\n",
       "<tbody>\n",
       "\t<tr><td>28       </td><td>1369.382 </td><td>NA       </td><td>      NA </td><td>       NA</td><td>       NA</td></tr>\n",
       "\t<tr><td>23       </td><td>1149.000 </td><td> 5       </td><td>220.3821 </td><td>0.8822953</td><td>0.5086231</td></tr>\n",
       "</tbody>\n",
       "</table>\n"
      ],
      "text/latex": [
       "\\begin{tabular}{r|llllll}\n",
       " Res.Df & RSS & Df & Sum of Sq & F & Pr(>F)\\\\\n",
       "\\hline\n",
       "\t 28        & 1369.382  & NA        &       NA  &        NA &        NA\\\\\n",
       "\t 23        & 1149.000  &  5        & 220.3821  & 0.8822953 & 0.5086231\\\\\n",
       "\\end{tabular}\n"
      ],
      "text/markdown": [
       "\n",
       "Res.Df | RSS | Df | Sum of Sq | F | Pr(>F) | \n",
       "|---|---|\n",
       "| 28        | 1369.382  | NA        |       NA  |        NA |        NA | \n",
       "| 23        | 1149.000  |  5        | 220.3821  | 0.8822953 | 0.5086231 | \n",
       "\n",
       "\n"
      ],
      "text/plain": [
       "  Res.Df RSS      Df Sum of Sq F         Pr(>F)   \n",
       "1 28     1369.382 NA       NA         NA        NA\n",
       "2 23     1149.000  5 220.3821  0.8822953 0.5086231"
      ]
     },
     "metadata": {},
     "output_type": "display_data"
    }
   ],
   "source": [
    "fit<-lm(Y~X1+X2+X3+X4+X5+X6 ,data=data)\n",
    "summary(fit)\n",
    "\n",
    "fit2<-lm(Y~X1+X2+X3+X4+X6 ,data=data)\n",
    "summary(fit2)\n",
    "\n",
    "fit3<-lm(Y~X1+X2+X3+X6 ,data=data)\n",
    "summary(fit3)\n",
    "\n",
    "fit4<-lm(Y~X1+X3+X6 ,data=data)\n",
    "summary(fit4)\n",
    "\n",
    "fit5<-lm(Y~X1+X3 ,data=data)\n",
    "summary(fit5)\n",
    "\n",
    "fit6<-lm(Y~X1 ,data=data)\n",
    "summary(fit6)\n",
    "\n",
    "fit7<-lm(Y~1 ,data=data)\n",
    "summary(fit7)\n",
    "\n",
    "anova(fit6,fit)"
   ]
  },
  {
   "cell_type": "code",
   "execution_count": 12,
   "metadata": {},
   "outputs": [
    {
     "data": {
      "text/html": [
       "<table>\n",
       "<thead><tr><th></th><th scope=col>df</th><th scope=col>AIC</th></tr></thead>\n",
       "<tbody>\n",
       "\t<tr><th scope=row>fit</th><td>8       </td><td>210.4998</td></tr>\n",
       "\t<tr><th scope=row>fit2</th><td>7       </td><td>208.5886</td></tr>\n",
       "\t<tr><th scope=row>fit3</th><td>6       </td><td>206.8634</td></tr>\n",
       "\t<tr><th scope=row>fit4</th><td>5       </td><td>205.2758</td></tr>\n",
       "\t<tr><th scope=row>fit5</th><td>4       </td><td>205.1387</td></tr>\n",
       "\t<tr><th scope=row>fit6</th><td>3       </td><td>205.7638</td></tr>\n",
       "</tbody>\n",
       "</table>\n"
      ],
      "text/latex": [
       "\\begin{tabular}{r|ll}\n",
       "  & df & AIC\\\\\n",
       "\\hline\n",
       "\tfit & 8        & 210.4998\\\\\n",
       "\tfit2 & 7        & 208.5886\\\\\n",
       "\tfit3 & 6        & 206.8634\\\\\n",
       "\tfit4 & 5        & 205.2758\\\\\n",
       "\tfit5 & 4        & 205.1387\\\\\n",
       "\tfit6 & 3        & 205.7638\\\\\n",
       "\\end{tabular}\n"
      ],
      "text/markdown": [
       "\n",
       "| <!--/--> | df | AIC | \n",
       "|---|---|---|---|---|---|\n",
       "| fit | 8        | 210.4998 | \n",
       "| fit2 | 7        | 208.5886 | \n",
       "| fit3 | 6        | 206.8634 | \n",
       "| fit4 | 5        | 205.2758 | \n",
       "| fit5 | 4        | 205.1387 | \n",
       "| fit6 | 3        | 205.7638 | \n",
       "\n",
       "\n"
      ],
      "text/plain": [
       "     df AIC     \n",
       "fit  8  210.4998\n",
       "fit2 7  208.5886\n",
       "fit3 6  206.8634\n",
       "fit4 5  205.2758\n",
       "fit5 4  205.1387\n",
       "fit6 3  205.7638"
      ]
     },
     "metadata": {},
     "output_type": "display_data"
    },
    {
     "data": {
      "text/html": [
       "<table>\n",
       "<thead><tr><th></th><th scope=col>df</th><th scope=col>BIC</th></tr></thead>\n",
       "<tbody>\n",
       "\t<tr><th scope=row>fit</th><td>8       </td><td>221.7094</td></tr>\n",
       "\t<tr><th scope=row>fit2</th><td>7       </td><td>218.3970</td></tr>\n",
       "\t<tr><th scope=row>fit3</th><td>6       </td><td>215.2706</td></tr>\n",
       "\t<tr><th scope=row>fit4</th><td>5       </td><td>212.2818</td></tr>\n",
       "\t<tr><th scope=row>fit5</th><td>4       </td><td>210.7435</td></tr>\n",
       "\t<tr><th scope=row>fit6</th><td>3       </td><td>209.9674</td></tr>\n",
       "</tbody>\n",
       "</table>\n"
      ],
      "text/latex": [
       "\\begin{tabular}{r|ll}\n",
       "  & df & BIC\\\\\n",
       "\\hline\n",
       "\tfit & 8        & 221.7094\\\\\n",
       "\tfit2 & 7        & 218.3970\\\\\n",
       "\tfit3 & 6        & 215.2706\\\\\n",
       "\tfit4 & 5        & 212.2818\\\\\n",
       "\tfit5 & 4        & 210.7435\\\\\n",
       "\tfit6 & 3        & 209.9674\\\\\n",
       "\\end{tabular}\n"
      ],
      "text/markdown": [
       "\n",
       "| <!--/--> | df | BIC | \n",
       "|---|---|---|---|---|---|\n",
       "| fit | 8        | 221.7094 | \n",
       "| fit2 | 7        | 218.3970 | \n",
       "| fit3 | 6        | 215.2706 | \n",
       "| fit4 | 5        | 212.2818 | \n",
       "| fit5 | 4        | 210.7435 | \n",
       "| fit6 | 3        | 209.9674 | \n",
       "\n",
       "\n"
      ],
      "text/plain": [
       "     df BIC     \n",
       "fit  8  221.7094\n",
       "fit2 7  218.3970\n",
       "fit3 6  215.2706\n",
       "fit4 5  212.2818\n",
       "fit5 4  210.7435\n",
       "fit6 3  209.9674"
      ]
     },
     "metadata": {},
     "output_type": "display_data"
    },
    {
     "data": {
      "text/html": [
       "<table>\n",
       "<thead><tr><th scope=col>Res.Df</th><th scope=col>RSS</th><th scope=col>Df</th><th scope=col>Sum of Sq</th><th scope=col>F</th><th scope=col>Pr(&gt;F)</th></tr></thead>\n",
       "<tbody>\n",
       "\t<tr><td>27       </td><td>1254.649 </td><td>NA       </td><td>       NA</td><td>     NA  </td><td>       NA</td></tr>\n",
       "\t<tr><td>28       </td><td>1369.382 </td><td>-1       </td><td>-114.7334</td><td>2.46906  </td><td>0.1277539</td></tr>\n",
       "</tbody>\n",
       "</table>\n"
      ],
      "text/latex": [
       "\\begin{tabular}{r|llllll}\n",
       " Res.Df & RSS & Df & Sum of Sq & F & Pr(>F)\\\\\n",
       "\\hline\n",
       "\t 27        & 1254.649  & NA        &        NA &      NA   &        NA\\\\\n",
       "\t 28        & 1369.382  & -1        & -114.7334 & 2.46906   & 0.1277539\\\\\n",
       "\\end{tabular}\n"
      ],
      "text/markdown": [
       "\n",
       "Res.Df | RSS | Df | Sum of Sq | F | Pr(>F) | \n",
       "|---|---|\n",
       "| 27        | 1254.649  | NA        |        NA |      NA   |        NA | \n",
       "| 28        | 1369.382  | -1        | -114.7334 | 2.46906   | 0.1277539 | \n",
       "\n",
       "\n"
      ],
      "text/plain": [
       "  Res.Df RSS      Df Sum of Sq F       Pr(>F)   \n",
       "1 27     1254.649 NA        NA      NA        NA\n",
       "2 28     1369.382 -1 -114.7334 2.46906 0.1277539"
      ]
     },
     "metadata": {},
     "output_type": "display_data"
    }
   ],
   "source": [
    "AIC(fit,fit2,fit3,fit4,fit5,fit6)\n",
    "BIC(fit,fit2,fit3,fit4,fit5,fit6)\n",
    "\n",
    "anova(fit5,fit6)"
   ]
  },
  {
   "cell_type": "markdown",
   "metadata": {},
   "source": [
    "##############################\n",
    "#backward forward stepwise 방법\n",
    "##############################"
   ]
  },
  {
   "cell_type": "code",
   "execution_count": 13,
   "metadata": {},
   "outputs": [
    {
     "name": "stdout",
     "output_type": "stream",
     "text": [
      "Start:  AIC=150.93\n",
      "Y ~ 1\n",
      "\n",
      "       Df Sum of Sq    RSS    AIC\n",
      "+ X1    1   2927.58 1369.4 118.63\n",
      "+ X3    1   1671.41 2625.6 138.16\n",
      "+ X4    1   1496.48 2800.5 140.09\n",
      "+ X2    1    780.22 3516.7 146.92\n",
      "<none>              4297.0 150.93\n",
      "+ X5    1    105.16 4191.8 152.19\n",
      "+ X6    1    103.35 4193.6 152.20\n",
      "\n",
      "Step:  AIC=118.63\n",
      "Y ~ X1\n",
      "\n",
      "       Df Sum of Sq    RSS    AIC\n",
      "+ X3    1   114.733 1254.7 118.00\n",
      "<none>              1369.4 118.63\n",
      "+ X4    1    11.102 1358.3 120.38\n",
      "+ X2    1     7.519 1361.9 120.46\n",
      "+ X6    1     4.151 1365.2 120.54\n",
      "+ X5    1     0.010 1369.4 120.63\n",
      "\n",
      "Step:  AIC=118\n",
      "Y ~ X1 + X3\n",
      "\n",
      "       Df Sum of Sq    RSS    AIC\n",
      "<none>              1254.7 118.00\n",
      "+ X6    1    75.540 1179.1 118.14\n",
      "+ X2    1    30.033 1224.6 119.28\n",
      "+ X4    1     1.188 1253.5 119.97\n",
      "+ X5    1     0.002 1254.7 120.00\n",
      "Start:  AIC=123.36\n",
      "Y ~ X1 + X2 + X3 + X4 + X5 + X6\n",
      "\n",
      "       Df Sum of Sq    RSS    AIC\n",
      "- X5    1      3.41 1152.4 121.45\n",
      "- X4    1      6.80 1155.8 121.54\n",
      "- X2    1     14.47 1163.5 121.74\n",
      "- X6    1     74.11 1223.1 123.24\n",
      "<none>              1149.0 123.36\n",
      "- X3    1    180.50 1329.5 125.74\n",
      "- X1    1    724.80 1873.8 136.04\n",
      "\n",
      "Step:  AIC=121.45\n",
      "Y ~ X1 + X2 + X3 + X4 + X6\n",
      "\n",
      "       Df Sum of Sq    RSS    AIC\n",
      "- X4    1     10.61 1163.0 119.73\n",
      "- X2    1     14.16 1166.6 119.82\n",
      "- X6    1     71.27 1223.7 121.25\n",
      "<none>              1152.4 121.45\n",
      "- X3    1    177.74 1330.1 123.75\n",
      "- X1    1    724.70 1877.1 134.09\n",
      "\n",
      "Step:  AIC=119.73\n",
      "Y ~ X1 + X2 + X3 + X6\n",
      "\n",
      "       Df Sum of Sq    RSS    AIC\n",
      "- X2    1     16.10 1179.1 118.14\n",
      "- X6    1     61.60 1224.6 119.28\n",
      "<none>              1163.0 119.73\n",
      "- X3    1    197.03 1360.0 122.42\n",
      "- X1    1   1165.94 2328.9 138.56\n",
      "\n",
      "Step:  AIC=118.14\n",
      "Y ~ X1 + X3 + X6\n",
      "\n",
      "       Df Sum of Sq    RSS    AIC\n",
      "- X6    1     75.54 1254.7 118.00\n",
      "<none>              1179.1 118.14\n",
      "- X3    1    186.12 1365.2 120.54\n",
      "- X1    1   1259.91 2439.0 137.94\n",
      "\n",
      "Step:  AIC=118\n",
      "Y ~ X1 + X3\n",
      "\n",
      "       Df Sum of Sq    RSS    AIC\n",
      "<none>              1254.7 118.00\n",
      "- X3    1    114.73 1369.4 118.63\n",
      "- X1    1   1370.91 2625.6 138.16\n",
      "Start:  AIC=150.93\n",
      "Y ~ 1\n",
      "\n",
      "       Df Sum of Sq    RSS    AIC\n",
      "+ X1    1   2927.58 1369.4 118.63\n",
      "+ X3    1   1671.41 2625.6 138.16\n",
      "+ X4    1   1496.48 2800.5 140.09\n",
      "+ X2    1    780.22 3516.7 146.92\n",
      "<none>              4297.0 150.93\n",
      "+ X5    1    105.16 4191.8 152.19\n",
      "+ X6    1    103.35 4193.6 152.20\n",
      "\n",
      "Step:  AIC=118.63\n",
      "Y ~ X1\n",
      "\n",
      "       Df Sum of Sq    RSS    AIC\n",
      "+ X3    1    114.73 1254.6 118.00\n",
      "<none>              1369.4 118.63\n",
      "+ X4    1     11.10 1358.3 120.38\n",
      "+ X2    1      7.52 1361.9 120.46\n",
      "+ X6    1      4.15 1365.2 120.54\n",
      "+ X5    1      0.01 1369.4 120.63\n",
      "- X1    1   2927.58 4297.0 150.93\n",
      "\n",
      "Step:  AIC=118\n",
      "Y ~ X1 + X3\n",
      "\n",
      "       Df Sum of Sq    RSS    AIC\n",
      "<none>              1254.7 118.00\n",
      "+ X6    1     75.54 1179.1 118.14\n",
      "- X3    1    114.73 1369.4 118.63\n",
      "+ X2    1     30.03 1224.6 119.28\n",
      "+ X4    1      1.19 1253.5 119.97\n",
      "+ X5    1      0.00 1254.7 120.00\n",
      "- X1    1   1370.91 2625.6 138.16\n"
     ]
    },
    {
     "data": {
      "text/plain": [
       "\n",
       "Call:\n",
       "lm(formula = Y ~ X1 + X3, data = data)\n",
       "\n",
       "Residuals:\n",
       "     Min       1Q   Median       3Q      Max \n",
       "-11.5568  -5.7331   0.6701   6.5341  10.3610 \n",
       "\n",
       "Coefficients:\n",
       "            Estimate Std. Error t value Pr(>|t|)    \n",
       "(Intercept)   9.8709     7.0612   1.398    0.174    \n",
       "X1            0.6435     0.1185   5.432 9.57e-06 ***\n",
       "X3            0.2112     0.1344   1.571    0.128    \n",
       "---\n",
       "Signif. codes:  0 '***' 0.001 '**' 0.01 '*' 0.05 '.' 0.1 ' ' 1\n",
       "\n",
       "Residual standard error: 6.817 on 27 degrees of freedom\n",
       "Multiple R-squared:  0.708,\tAdjusted R-squared:  0.6864 \n",
       "F-statistic: 32.74 on 2 and 27 DF,  p-value: 6.058e-08\n"
      ]
     },
     "metadata": {},
     "output_type": "display_data"
    },
    {
     "data": {
      "text/plain": [
       "\n",
       "Call:\n",
       "lm(formula = Y ~ X1 + X3, data = data)\n",
       "\n",
       "Residuals:\n",
       "     Min       1Q   Median       3Q      Max \n",
       "-11.5568  -5.7331   0.6701   6.5341  10.3610 \n",
       "\n",
       "Coefficients:\n",
       "            Estimate Std. Error t value Pr(>|t|)    \n",
       "(Intercept)   9.8709     7.0612   1.398    0.174    \n",
       "X1            0.6435     0.1185   5.432 9.57e-06 ***\n",
       "X3            0.2112     0.1344   1.571    0.128    \n",
       "---\n",
       "Signif. codes:  0 '***' 0.001 '**' 0.01 '*' 0.05 '.' 0.1 ' ' 1\n",
       "\n",
       "Residual standard error: 6.817 on 27 degrees of freedom\n",
       "Multiple R-squared:  0.708,\tAdjusted R-squared:  0.6864 \n",
       "F-statistic: 32.74 on 2 and 27 DF,  p-value: 6.058e-08\n"
      ]
     },
     "metadata": {},
     "output_type": "display_data"
    },
    {
     "data": {
      "text/plain": [
       "\n",
       "Call:\n",
       "lm(formula = Y ~ X1 + X3, data = data)\n",
       "\n",
       "Residuals:\n",
       "     Min       1Q   Median       3Q      Max \n",
       "-11.5568  -5.7331   0.6701   6.5341  10.3610 \n",
       "\n",
       "Coefficients:\n",
       "            Estimate Std. Error t value Pr(>|t|)    \n",
       "(Intercept)   9.8709     7.0612   1.398    0.174    \n",
       "X1            0.6435     0.1185   5.432 9.57e-06 ***\n",
       "X3            0.2112     0.1344   1.571    0.128    \n",
       "---\n",
       "Signif. codes:  0 '***' 0.001 '**' 0.01 '*' 0.05 '.' 0.1 ' ' 1\n",
       "\n",
       "Residual standard error: 6.817 on 27 degrees of freedom\n",
       "Multiple R-squared:  0.708,\tAdjusted R-squared:  0.6864 \n",
       "F-statistic: 32.74 on 2 and 27 DF,  p-value: 6.058e-08\n"
      ]
     },
     "metadata": {},
     "output_type": "display_data"
    }
   ],
   "source": [
    "fit.con<-lm(Y~1,data=data)\n",
    "fit<-lm(Y~X1+X2+X3+X4+X5+X6,data=data)\n",
    "\n",
    "fit.forward<-step(fit.con, scope = list(lower=fit.con,upper=fit), direction='forward',k=2)\n",
    "fit.back<-step(fit, scope=list(lower=fit.con, upper=fit), direction='backward')\n",
    "fit.both<-step(fit.con, scope=list(lower=fit.con, upper=fit), direction='both')\n",
    "\n",
    "summary(fit.forward)\n",
    "summary(fit.back)\n",
    "summary(fit.both)"
   ]
  },
  {
   "cell_type": "code",
   "execution_count": 14,
   "metadata": {},
   "outputs": [
    {
     "name": "stdout",
     "output_type": "stream",
     "text": [
      "Start:  AIC=142.99\n",
      "Y ~ (X1 + X2 + X3 + X4 + X5 + X6)^2\n",
      "\n",
      "        Df Sum of Sq    RSS    AIC\n",
      "- X2:X5  1     0.276 813.27 141.00\n",
      "- X2:X4  1     0.513 813.51 141.00\n",
      "- X2:X3  1     0.559 813.56 141.01\n",
      "- X4:X5  1     1.073 814.07 141.03\n",
      "- X4:X6  1     2.223 815.22 141.07\n",
      "- X3:X4  1     2.573 815.57 141.08\n",
      "- X3:X5  1     3.574 816.57 141.12\n",
      "- X1:X5  1     3.965 816.96 141.13\n",
      "- X1:X4  1     6.326 819.32 141.22\n",
      "- X1:X3  1    16.594 829.59 141.59\n",
      "- X2:X6  1    23.731 836.73 141.85\n",
      "- X1:X2  1    29.182 842.18 142.04\n",
      "- X5:X6  1    34.713 847.71 142.24\n",
      "- X1:X6  1    40.350 853.35 142.44\n",
      "<none>               813.00 142.99\n",
      "- X3:X6  1    82.371 895.37 143.88\n",
      "\n",
      "Step:  AIC=141\n",
      "Y ~ X1 + X2 + X3 + X4 + X5 + X6 + X1:X2 + X1:X3 + X1:X4 + X1:X5 + \n",
      "    X1:X6 + X2:X3 + X2:X4 + X2:X6 + X3:X4 + X3:X5 + X3:X6 + X4:X5 + \n",
      "    X4:X6 + X5:X6\n",
      "\n",
      "        Df Sum of Sq    RSS    AIC\n",
      "- X2:X4  1     0.712 813.99 139.02\n",
      "- X2:X3  1     0.988 814.26 139.03\n",
      "- X4:X5  1     1.757 815.03 139.06\n",
      "- X3:X4  1     2.900 816.17 139.10\n",
      "- X4:X6  1     3.009 816.28 139.11\n",
      "- X1:X5  1     6.083 819.36 139.22\n",
      "- X1:X4  1     6.084 819.36 139.22\n",
      "- X3:X5  1     7.614 820.89 139.28\n",
      "- X1:X3  1    16.323 829.60 139.59\n",
      "- X2:X6  1    27.541 840.81 140.00\n",
      "- X1:X2  1    30.591 843.87 140.10\n",
      "- X1:X6  1    40.142 853.42 140.44\n",
      "- X5:X6  1    40.376 853.65 140.45\n",
      "<none>               813.27 141.00\n",
      "- X3:X6  1    83.397 896.67 141.93\n",
      "\n",
      "Step:  AIC=139.02\n",
      "Y ~ X1 + X2 + X3 + X4 + X5 + X6 + X1:X2 + X1:X3 + X1:X4 + X1:X5 + \n",
      "    X1:X6 + X2:X3 + X2:X6 + X3:X4 + X3:X5 + X3:X6 + X4:X5 + X4:X6 + \n",
      "    X5:X6\n",
      "\n",
      "        Df Sum of Sq    RSS    AIC\n",
      "- X2:X3  1     0.284 814.27 137.03\n",
      "- X3:X4  1     2.227 816.21 137.10\n",
      "- X4:X6  1     2.567 816.55 137.12\n",
      "- X4:X5  1     4.950 818.94 137.20\n",
      "- X1:X4  1     5.468 819.45 137.22\n",
      "- X1:X5  1     6.716 820.70 137.27\n",
      "- X3:X5  1     7.112 821.10 137.28\n",
      "- X1:X3  1    15.863 829.85 137.60\n",
      "- X2:X6  1    31.966 845.95 138.18\n",
      "- X1:X2  1    31.983 845.97 138.18\n",
      "- X1:X6  1    41.031 855.02 138.50\n",
      "<none>               813.99 139.02\n",
      "- X5:X6  1    79.172 893.16 139.81\n",
      "- X3:X6  1   114.905 928.89 140.98\n",
      "\n",
      "Step:  AIC=137.03\n",
      "Y ~ X1 + X2 + X3 + X4 + X5 + X6 + X1:X2 + X1:X3 + X1:X4 + X1:X5 + \n",
      "    X1:X6 + X2:X6 + X3:X4 + X3:X5 + X3:X6 + X4:X5 + X4:X6 + X5:X6\n",
      "\n",
      "        Df Sum of Sq    RSS    AIC\n",
      "- X3:X4  1     1.983 816.25 135.11\n",
      "- X4:X6  1     2.634 816.90 135.13\n",
      "- X4:X5  1     6.215 820.48 135.26\n",
      "- X1:X4  1     6.421 820.69 135.27\n",
      "- X1:X5  1     6.446 820.72 135.27\n",
      "- X3:X5  1     7.497 821.77 135.31\n",
      "- X1:X3  1    19.428 833.70 135.74\n",
      "- X2:X6  1    32.655 846.92 136.21\n",
      "- X1:X2  1    39.654 853.92 136.46\n",
      "- X1:X6  1    43.917 858.19 136.61\n",
      "<none>               814.27 137.03\n",
      "- X5:X6  1    81.109 895.38 137.88\n",
      "- X3:X6  1   115.126 929.40 139.00\n",
      "\n",
      "Step:  AIC=135.11\n",
      "Y ~ X1 + X2 + X3 + X4 + X5 + X6 + X1:X2 + X1:X3 + X1:X4 + X1:X5 + \n",
      "    X1:X6 + X2:X6 + X3:X5 + X3:X6 + X4:X5 + X4:X6 + X5:X6\n",
      "\n",
      "        Df Sum of Sq    RSS    AIC\n",
      "- X4:X6  1     4.810 821.06 133.28\n",
      "- X1:X5  1     5.776 822.03 133.32\n",
      "- X3:X5  1     5.893 822.15 133.32\n",
      "- X4:X5  1     6.524 822.78 133.34\n",
      "- X1:X4  1     8.459 824.71 133.41\n",
      "- X1:X3  1    17.549 833.80 133.74\n",
      "- X2:X6  1    30.935 847.19 134.22\n",
      "- X1:X2  1    38.001 854.25 134.47\n",
      "- X1:X6  1    43.049 859.30 134.65\n",
      "<none>               816.25 135.11\n",
      "- X5:X6  1    79.211 895.46 135.88\n",
      "- X3:X6  1   113.811 930.06 137.02\n",
      "\n",
      "Step:  AIC=133.28\n",
      "Y ~ X1 + X2 + X3 + X4 + X5 + X6 + X1:X2 + X1:X3 + X1:X4 + X1:X5 + \n",
      "    X1:X6 + X2:X6 + X3:X5 + X3:X6 + X4:X5 + X5:X6\n",
      "\n",
      "        Df Sum of Sq    RSS    AIC\n",
      "- X4:X5  1     3.269 824.33 131.40\n",
      "- X1:X5  1     3.400 824.46 131.41\n",
      "- X3:X5  1     9.272 830.33 131.62\n",
      "- X1:X4  1    24.952 846.01 132.18\n",
      "- X1:X3  1    32.782 853.84 132.46\n",
      "- X1:X2  1    33.769 854.83 132.49\n",
      "- X1:X6  1    38.361 859.42 132.65\n",
      "- X2:X6  1    44.127 865.19 132.85\n",
      "<none>               821.06 133.28\n",
      "- X5:X6  1    81.088 902.15 134.11\n",
      "- X3:X6  1   117.500 938.56 135.29\n",
      "\n",
      "Step:  AIC=131.4\n",
      "Y ~ X1 + X2 + X3 + X4 + X5 + X6 + X1:X2 + X1:X3 + X1:X4 + X1:X5 + \n",
      "    X1:X6 + X2:X6 + X3:X5 + X3:X6 + X5:X6\n",
      "\n",
      "        Df Sum of Sq    RSS    AIC\n",
      "- X1:X5  1     0.779 825.11 129.43\n",
      "- X3:X5  1     7.192 831.52 129.66\n",
      "- X1:X4  1    27.960 852.29 130.40\n",
      "- X1:X2  1    31.657 855.99 130.53\n",
      "- X1:X6  1    35.185 859.52 130.66\n",
      "- X2:X6  1    44.017 868.35 130.96\n",
      "- X1:X3  1    52.030 876.36 131.24\n",
      "<none>               824.33 131.40\n",
      "- X5:X6  1   103.006 927.34 132.93\n",
      "- X3:X6  1   114.236 938.57 133.29\n",
      "\n",
      "Step:  AIC=129.43\n",
      "Y ~ X1 + X2 + X3 + X4 + X5 + X6 + X1:X2 + X1:X3 + X1:X4 + X1:X6 + \n",
      "    X2:X6 + X3:X5 + X3:X6 + X5:X6\n",
      "\n",
      "        Df Sum of Sq    RSS    AIC\n",
      "- X3:X5  1     9.976 835.09 127.79\n",
      "- X1:X2  1    34.209 859.32 128.65\n",
      "- X1:X6  1    34.678 859.79 128.66\n",
      "- X1:X4  1    44.973 870.08 129.02\n",
      "- X2:X6  1    44.999 870.11 129.02\n",
      "<none>               825.11 129.43\n",
      "- X1:X3  1    81.823 906.93 130.27\n",
      "- X5:X6  1   106.912 932.02 131.09\n",
      "- X3:X6  1   130.807 955.92 131.84\n",
      "\n",
      "Step:  AIC=127.79\n",
      "Y ~ X1 + X2 + X3 + X4 + X5 + X6 + X1:X2 + X1:X3 + X1:X4 + X1:X6 + \n",
      "    X2:X6 + X3:X6 + X5:X6\n",
      "\n",
      "        Df Sum of Sq    RSS    AIC\n",
      "- X1:X6  1    30.256 865.34 126.86\n",
      "- X1:X4  1    36.045 871.13 127.06\n",
      "- X2:X6  1    42.762 877.85 127.29\n",
      "<none>               835.09 127.79\n",
      "- X1:X2  1    58.627 893.71 127.83\n",
      "- X1:X3  1    72.789 907.88 128.30\n",
      "- X5:X6  1    96.947 932.03 129.09\n",
      "- X3:X6  1   152.156 987.24 130.81\n",
      "\n",
      "Step:  AIC=126.86\n",
      "Y ~ X1 + X2 + X3 + X4 + X5 + X6 + X1:X2 + X1:X3 + X1:X4 + X2:X6 + \n",
      "    X3:X6 + X5:X6\n",
      "\n",
      "        Df Sum of Sq     RSS    AIC\n",
      "- X2:X6  1    17.968  883.31 125.47\n",
      "- X1:X4  1    18.758  884.10 125.50\n",
      "- X1:X2  1    51.115  916.46 126.58\n",
      "<none>                865.34 126.86\n",
      "- X1:X3  1    66.831  932.17 127.09\n",
      "- X5:X6  1    78.118  943.46 127.45\n",
      "- X3:X6  1   191.752 1057.10 130.86\n",
      "\n",
      "Step:  AIC=125.47\n",
      "Y ~ X1 + X2 + X3 + X4 + X5 + X6 + X1:X2 + X1:X3 + X1:X4 + X3:X6 + \n",
      "    X5:X6\n",
      "\n",
      "        Df Sum of Sq     RSS    AIC\n",
      "- X1:X4  1    12.495  895.81 123.90\n",
      "- X1:X2  1    33.901  917.21 124.60\n",
      "- X1:X3  1    49.083  932.39 125.10\n",
      "<none>                883.31 125.47\n",
      "- X5:X6  1    62.105  945.42 125.51\n",
      "- X3:X6  1   197.385 1080.70 129.53\n",
      "\n",
      "Step:  AIC=123.9\n",
      "Y ~ X1 + X2 + X3 + X4 + X5 + X6 + X1:X2 + X1:X3 + X3:X6 + X5:X6\n",
      "\n",
      "        Df Sum of Sq     RSS    AIC\n",
      "- X4     1    27.620  923.43 122.81\n",
      "- X1:X3  1    36.915  932.72 123.11\n",
      "- X5:X6  1    49.944  945.75 123.52\n",
      "- X1:X2  1    55.902  951.71 123.71\n",
      "<none>                895.81 123.90\n",
      "- X3:X6  1   213.375 1109.18 128.31\n",
      "\n",
      "Step:  AIC=122.81\n",
      "Y ~ X1 + X2 + X3 + X5 + X6 + X1:X2 + X1:X3 + X3:X6 + X5:X6\n",
      "\n",
      "        Df Sum of Sq     RSS    AIC\n",
      "- X1:X3  1    36.172  959.60 121.96\n",
      "- X5:X6  1    41.490  964.92 122.12\n",
      "- X1:X2  1    52.259  975.68 122.46\n",
      "<none>                923.43 122.81\n",
      "- X3:X6  1   191.698 1115.12 126.47\n",
      "\n",
      "Step:  AIC=121.96\n",
      "Y ~ X1 + X2 + X3 + X5 + X6 + X1:X2 + X3:X6 + X5:X6\n",
      "\n",
      "        Df Sum of Sq     RSS    AIC\n",
      "- X5:X6  1    16.824  976.42 120.48\n",
      "- X1:X2  1    19.011  978.61 120.55\n",
      "<none>                959.60 121.96\n",
      "- X3:X6  1   180.737 1140.33 125.14\n",
      "\n",
      "Step:  AIC=120.48\n",
      "Y ~ X1 + X2 + X3 + X5 + X6 + X1:X2 + X3:X6\n",
      "\n",
      "        Df Sum of Sq     RSS    AIC\n",
      "- X1:X2  1     9.822  986.24 118.78\n",
      "- X5     1    27.908 1004.33 119.33\n",
      "<none>                976.42 120.48\n",
      "- X3:X6  1   175.271 1151.69 123.43\n",
      "\n",
      "Step:  AIC=118.78\n",
      "Y ~ X1 + X2 + X3 + X5 + X6 + X3:X6\n",
      "\n",
      "        Df Sum of Sq     RSS    AIC\n",
      "- X5     1     27.65 1013.89 117.61\n",
      "- X2     1     57.19 1043.43 118.47\n",
      "<none>                986.24 118.78\n",
      "- X3:X6  1    169.56 1155.80 121.54\n",
      "- X1     1   1190.99 2177.24 140.54\n",
      "\n",
      "Step:  AIC=117.61\n",
      "Y ~ X1 + X2 + X3 + X6 + X3:X6\n",
      "\n",
      "        Df Sum of Sq    RSS    AIC\n",
      "- X2     1     52.78 1066.7 117.13\n",
      "<none>               1013.9 117.61\n",
      "- X3:X6  1    149.12 1163.0 119.73\n",
      "- X1     1   1272.09 2286.0 140.00\n",
      "\n",
      "Step:  AIC=117.13\n",
      "Y ~ X1 + X3 + X6 + X3:X6\n",
      "\n",
      "        Df Sum of Sq    RSS    AIC\n",
      "<none>               1066.7 117.13\n",
      "- X3:X6  1    112.44 1179.1 118.14\n",
      "- X1     1   1294.04 2360.7 138.97\n"
     ]
    },
    {
     "data": {
      "text/plain": [
       "\n",
       "Call:\n",
       "lm(formula = Y ~ X1 + X3 + X6 + X3:X6, data = data)\n",
       "\n",
       "Residuals:\n",
       "     Min       1Q   Median       3Q      Max \n",
       "-13.5215  -3.9474   0.6536   3.7923  12.6782 \n",
       "\n",
       "Coefficients:\n",
       "            Estimate Std. Error t value Pr(>|t|)    \n",
       "(Intercept) 63.53570   31.63292   2.009   0.0555 .  \n",
       "X1           0.63187    0.11474   5.507 1.01e-05 ***\n",
       "X3          -0.53005    0.54008  -0.981   0.3358    \n",
       "X6          -1.44649    0.78852  -1.834   0.0785 .  \n",
       "X3:X6        0.02055    0.01266   1.623   0.1171    \n",
       "---\n",
       "Signif. codes:  0 '***' 0.001 '**' 0.01 '*' 0.05 '.' 0.1 ' ' 1\n",
       "\n",
       "Residual standard error: 6.532 on 25 degrees of freedom\n",
       "Multiple R-squared:  0.7518,\tAdjusted R-squared:  0.712 \n",
       "F-statistic: 18.93 on 4 and 25 DF,  p-value: 2.836e-07\n"
      ]
     },
     "metadata": {},
     "output_type": "display_data"
    }
   ],
   "source": [
    "complicate<-step(lm(Y~(X1+X2+X3+X4+X5+X6)^2 ,data=data),direction='backward')\n",
    "\n",
    "summary(complicate)"
   ]
  },
  {
   "cell_type": "code",
   "execution_count": 15,
   "metadata": {},
   "outputs": [
    {
     "data": {
      "text/plain": [
       "\n",
       "\tShapiro-Wilk normality test\n",
       "\n",
       "data:  resid(fit.back)\n",
       "W = 0.94486, p-value = 0.123\n"
      ]
     },
     "metadata": {},
     "output_type": "display_data"
    },
    {
     "data": {
      "text/plain": [
       "\n",
       "\tShapiro-Wilk normality test\n",
       "\n",
       "data:  resid(complicate)\n",
       "W = 0.99418, p-value = 0.9998\n"
      ]
     },
     "metadata": {},
     "output_type": "display_data"
    }
   ],
   "source": [
    "#정규성 통과...\n",
    "shapiro.test(resid(fit.back))\n",
    "shapiro.test(resid(complicate))"
   ]
  },
  {
   "cell_type": "code",
   "execution_count": null,
   "metadata": {
    "collapsed": true
   },
   "outputs": [],
   "source": []
  }
 ],
 "metadata": {
  "kernelspec": {
   "display_name": "R",
   "language": "R",
   "name": "ir"
  },
  "language_info": {
   "codemirror_mode": "r",
   "file_extension": ".r",
   "mimetype": "text/x-r-source",
   "name": "R",
   "pygments_lexer": "r",
   "version": "3.4.2"
  }
 },
 "nbformat": 4,
 "nbformat_minor": 2
}
