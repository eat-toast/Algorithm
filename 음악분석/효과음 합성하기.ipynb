{
 "cells": [
  {
   "cell_type": "code",
   "execution_count": 1,
   "metadata": {
    "collapsed": true
   },
   "outputs": [],
   "source": [
    "%matplotlib inline\n",
    "import matplotlib.pyplot as plt\n",
    "\n",
    "from pydub import AudioSegment #To overlay Audio files\n",
    "import librosa #To Spectogram from Audio files\n",
    "\n",
    "#플랏 사이즈 결정 15인치 4인치\n",
    "plt.rcParams[\"figure.figsize\"] = (15,4)"
   ]
  },
  {
   "cell_type": "code",
   "execution_count": 3,
   "metadata": {
    "collapsed": true
   },
   "outputs": [],
   "source": [
    "#합성할 파일 불러오기.\n",
    "sound1 = AudioSegment.from_mp3(\"sound_1.mp3\") #잊지마!! 스캇스캇\n",
    "sound2 = AudioSegment.from_mp3(\"air_plane.mp3\")"
   ]
  },
  {
   "cell_type": "code",
   "execution_count": 4,
   "metadata": {
    "collapsed": true
   },
   "outputs": [],
   "source": [
    "# mix sound2 with sound1, starting at 5000ms into sound1)\n",
    "sound1_over_sound_2 = sound1.overlay(sound2, position=0, loop=True)"
   ]
  },
  {
   "cell_type": "markdown",
   "metadata": {},
   "source": [
    "# loop =True \n",
    "는 sound2를 계속해서 반복시켜 노래 길이를 맞추는데 도움을 준다."
   ]
  },
  {
   "cell_type": "code",
   "execution_count": 6,
   "metadata": {},
   "outputs": [
    {
     "data": {
      "text/plain": [
       "<_io.BufferedRandom name='sound1_over_air_plane.wav'>"
      ]
     },
     "execution_count": 6,
     "metadata": {},
     "output_type": "execute_result"
    }
   ],
   "source": [
    "sound1_over_sound_2.export(\"sound1_over_air_plane.wav\", format=\"wav\")"
   ]
  }
 ],
 "metadata": {
  "kernelspec": {
   "display_name": "Python 3",
   "language": "python",
   "name": "python3"
  },
  "language_info": {
   "codemirror_mode": {
    "name": "ipython",
    "version": 3
   },
   "file_extension": ".py",
   "mimetype": "text/x-python",
   "name": "python",
   "nbconvert_exporter": "python",
   "pygments_lexer": "ipython3",
   "version": "3.6.1"
  }
 },
 "nbformat": 4,
 "nbformat_minor": 2
}
